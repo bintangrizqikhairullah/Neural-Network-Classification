{
 "cells": [
  {
   "cell_type": "markdown",
   "metadata": {},
   "source": [
    "# Neural Network Classification"
   ]
  },
  {
   "cell_type": "code",
   "execution_count": 1,
   "metadata": {},
   "outputs": [
    {
     "name": "stdout",
     "output_type": "stream",
     "text": [
      "WARNING:tensorflow:From c:\\Users\\ASUS\\anaconda3\\Lib\\site-packages\\keras\\src\\losses.py:2976: The name tf.losses.sparse_softmax_cross_entropy is deprecated. Please use tf.compat.v1.losses.sparse_softmax_cross_entropy instead.\n",
      "\n"
     ]
    }
   ],
   "source": [
    "import matplotlib.pyplot as plt\n",
    "import seaborn as sns\n",
    "import tensorflow as tf\n",
    "\n",
    "\n",
    "from sklearn.model_selection import train_test_split, cross_val_score, StratifiedKFold,RandomizedSearchCV\n",
    "from sklearn.preprocessing import LabelEncoder\n",
    "\n",
    "from tensorflow.keras import models, layers"
   ]
  },
  {
   "cell_type": "markdown",
   "metadata": {},
   "source": [
    "# Data Understanding"
   ]
  },
  {
   "cell_type": "markdown",
   "metadata": {},
   "source": [
    "**1. Import data**"
   ]
  },
  {
   "cell_type": "code",
   "execution_count": 2,
   "metadata": {},
   "outputs": [],
   "source": [
    "data=sns.load_dataset('iris')"
   ]
  },
  {
   "cell_type": "markdown",
   "metadata": {},
   "source": [
    "**2. Data Dimension and Feature**"
   ]
  },
  {
   "cell_type": "code",
   "execution_count": 3,
   "metadata": {},
   "outputs": [
    {
     "data": {
      "text/plain": [
       "(150, 5)"
      ]
     },
     "metadata": {},
     "output_type": "display_data"
    },
    {
     "name": "stdout",
     "output_type": "stream",
     "text": [
      "<class 'pandas.core.frame.DataFrame'>\n",
      "RangeIndex: 150 entries, 0 to 149\n",
      "Data columns (total 5 columns):\n",
      " #   Column        Non-Null Count  Dtype  \n",
      "---  ------        --------------  -----  \n",
      " 0   sepal_length  150 non-null    float64\n",
      " 1   sepal_width   150 non-null    float64\n",
      " 2   petal_length  150 non-null    float64\n",
      " 3   petal_width   150 non-null    float64\n",
      " 4   species       150 non-null    object \n",
      "dtypes: float64(4), object(1)\n",
      "memory usage: 6.0+ KB\n"
     ]
    },
    {
     "data": {
      "text/plain": [
       "None"
      ]
     },
     "metadata": {},
     "output_type": "display_data"
    },
    {
     "data": {
      "text/html": [
       "<div>\n",
       "<style scoped>\n",
       "    .dataframe tbody tr th:only-of-type {\n",
       "        vertical-align: middle;\n",
       "    }\n",
       "\n",
       "    .dataframe tbody tr th {\n",
       "        vertical-align: top;\n",
       "    }\n",
       "\n",
       "    .dataframe thead th {\n",
       "        text-align: right;\n",
       "    }\n",
       "</style>\n",
       "<table border=\"1\" class=\"dataframe\">\n",
       "  <thead>\n",
       "    <tr style=\"text-align: right;\">\n",
       "      <th></th>\n",
       "      <th>sepal_length</th>\n",
       "      <th>sepal_width</th>\n",
       "      <th>petal_length</th>\n",
       "      <th>petal_width</th>\n",
       "      <th>species</th>\n",
       "    </tr>\n",
       "  </thead>\n",
       "  <tbody>\n",
       "    <tr>\n",
       "      <th>0</th>\n",
       "      <td>5.1</td>\n",
       "      <td>3.5</td>\n",
       "      <td>1.4</td>\n",
       "      <td>0.2</td>\n",
       "      <td>setosa</td>\n",
       "    </tr>\n",
       "    <tr>\n",
       "      <th>1</th>\n",
       "      <td>4.9</td>\n",
       "      <td>3.0</td>\n",
       "      <td>1.4</td>\n",
       "      <td>0.2</td>\n",
       "      <td>setosa</td>\n",
       "    </tr>\n",
       "    <tr>\n",
       "      <th>2</th>\n",
       "      <td>4.7</td>\n",
       "      <td>3.2</td>\n",
       "      <td>1.3</td>\n",
       "      <td>0.2</td>\n",
       "      <td>setosa</td>\n",
       "    </tr>\n",
       "    <tr>\n",
       "      <th>3</th>\n",
       "      <td>4.6</td>\n",
       "      <td>3.1</td>\n",
       "      <td>1.5</td>\n",
       "      <td>0.2</td>\n",
       "      <td>setosa</td>\n",
       "    </tr>\n",
       "    <tr>\n",
       "      <th>4</th>\n",
       "      <td>5.0</td>\n",
       "      <td>3.6</td>\n",
       "      <td>1.4</td>\n",
       "      <td>0.2</td>\n",
       "      <td>setosa</td>\n",
       "    </tr>\n",
       "  </tbody>\n",
       "</table>\n",
       "</div>"
      ],
      "text/plain": [
       "   sepal_length  sepal_width  petal_length  petal_width species\n",
       "0           5.1          3.5           1.4          0.2  setosa\n",
       "1           4.9          3.0           1.4          0.2  setosa\n",
       "2           4.7          3.2           1.3          0.2  setosa\n",
       "3           4.6          3.1           1.5          0.2  setosa\n",
       "4           5.0          3.6           1.4          0.2  setosa"
      ]
     },
     "execution_count": 3,
     "metadata": {},
     "output_type": "execute_result"
    }
   ],
   "source": [
    "display(data.shape)\n",
    "display(data.info())\n",
    "data.head()"
   ]
  },
  {
   "cell_type": "markdown",
   "metadata": {},
   "source": [
    "# Data Exploration"
   ]
  },
  {
   "cell_type": "markdown",
   "metadata": {},
   "source": [
    "Data exploration is a crucial step in the data analysis process where analysts or data scientists examine and investigate data to understand its characteristics, patterns, and relationships. This exploration is typically performed before applying any formal statistical techniques or building predictive models. In This project The data exploration that will be done are :\n",
    "\n",
    "- Duplicate Rows.\n",
    "- Missing Value.\n",
    "- Univariate Analysis.\n",
    "- Class Distribution (Target Variable).\n",
    "- Bivariate Analysis.\n"
   ]
  },
  {
   "cell_type": "markdown",
   "metadata": {},
   "source": [
    "**1. Duplicate rows**"
   ]
  },
  {
   "cell_type": "markdown",
   "metadata": {},
   "source": [
    "Detecting and managing duplicate rows is crucial as they can distort analysis results and lead to incorrect conclusions. These duplicates may arise due to data entry errors, system glitches, or other issues, and if left unaddressed, they can bias statistical analyses and modeling efforts. Therefore, identifying and removing duplicate rows is essential to ensure the accuracy and reliability of subsequent analyses and modeling tasks."
   ]
  },
  {
   "cell_type": "code",
   "execution_count": 4,
   "metadata": {},
   "outputs": [
    {
     "name": "stdout",
     "output_type": "stream",
     "text": [
      " duplicated rows 1\n",
      " duplicated rows 0\n"
     ]
    }
   ],
   "source": [
    "print (f\" duplicated rows {data.duplicated().sum()}\")\n",
    "data=data.drop_duplicates()\n",
    "print (f\" duplicated rows {data.duplicated().sum()}\")"
   ]
  },
  {
   "cell_type": "markdown",
   "metadata": {},
   "source": [
    "**2. Missing Values**"
   ]
  },
  {
   "cell_type": "markdown",
   "metadata": {},
   "source": [
    "Addressing missing values is urgent as they can significantly impact the validity of data analysis and modeling outcomes. Missing values can introduce bias, reduce statistical power, and affect the performance of predictive models. Failure to handle missing values appropriately can lead to erroneous conclusions and flawed decision-making. Therefore, it is crucial to identify and address missing values through imputation or deletion to maintain data integrity and ensure the reliability of analytical results."
   ]
  },
  {
   "cell_type": "code",
   "execution_count": 5,
   "metadata": {},
   "outputs": [
    {
     "data": {
      "text/html": [
       "<div>\n",
       "<style scoped>\n",
       "    .dataframe tbody tr th:only-of-type {\n",
       "        vertical-align: middle;\n",
       "    }\n",
       "\n",
       "    .dataframe tbody tr th {\n",
       "        vertical-align: top;\n",
       "    }\n",
       "\n",
       "    .dataframe thead th {\n",
       "        text-align: right;\n",
       "    }\n",
       "</style>\n",
       "<table border=\"1\" class=\"dataframe\">\n",
       "  <thead>\n",
       "    <tr style=\"text-align: right;\">\n",
       "      <th></th>\n",
       "      <th>column</th>\n",
       "      <th>percentage</th>\n",
       "    </tr>\n",
       "  </thead>\n",
       "  <tbody>\n",
       "    <tr>\n",
       "      <th>0</th>\n",
       "      <td>sepal_length</td>\n",
       "      <td>0.0</td>\n",
       "    </tr>\n",
       "    <tr>\n",
       "      <th>1</th>\n",
       "      <td>sepal_width</td>\n",
       "      <td>0.0</td>\n",
       "    </tr>\n",
       "    <tr>\n",
       "      <th>2</th>\n",
       "      <td>petal_length</td>\n",
       "      <td>0.0</td>\n",
       "    </tr>\n",
       "    <tr>\n",
       "      <th>3</th>\n",
       "      <td>petal_width</td>\n",
       "      <td>0.0</td>\n",
       "    </tr>\n",
       "    <tr>\n",
       "      <th>4</th>\n",
       "      <td>species</td>\n",
       "      <td>0.0</td>\n",
       "    </tr>\n",
       "  </tbody>\n",
       "</table>\n",
       "</div>"
      ],
      "text/plain": [
       "         column  percentage\n",
       "0  sepal_length         0.0\n",
       "1   sepal_width         0.0\n",
       "2  petal_length         0.0\n",
       "3   petal_width         0.0\n",
       "4       species         0.0"
      ]
     },
     "execution_count": 5,
     "metadata": {},
     "output_type": "execute_result"
    }
   ],
   "source": [
    "missing=(data.isnull().sum()/len(data)*100).reset_index().sort_values(by=0,ascending=False)\n",
    "missing.rename({\"index\":\"column\",0:\"percentage\"},axis=1,inplace=True)\n",
    "missing"
   ]
  },
  {
   "cell_type": "markdown",
   "metadata": {},
   "source": [
    "**3. Class Distribution**"
   ]
  },
  {
   "cell_type": "code",
   "execution_count": 6,
   "metadata": {},
   "outputs": [
    {
     "data": {
      "image/png": "[encoded data removed]",
      "text/plain": [
       "<Figure size 1000x800 with 1 Axes>"
      ]
     },
     "metadata": {},
     "output_type": "display_data"
    }
   ],
   "source": [
    "fig, ax = plt.subplots(figsize=(10, 8))\n",
    "\n",
    "bar=data[[\"species\"]].value_counts().reset_index()\n",
    "sns.barplot(data=bar, x=\"species\", y=\"count\", ax=ax)\n",
    "ax.set_title('Target Variable Distribution')\n",
    "ax.set_ylabel(\"count\")\n",
    "for p in ax.patches:\n",
    "    ax.annotate(int(p.get_height()), (p.get_x() + p.get_width() / 2., p.get_height()),\n",
    "                    ha='center', va='center', xytext=(0, 10), textcoords='offset points')"
   ]
  },
  {
   "cell_type": "code",
   "execution_count": 7,
   "metadata": {},
   "outputs": [],
   "source": [
    "label_encoder = LabelEncoder()\n",
    "data[\"species\"] = label_encoder.fit_transform(data[\"species\"])"
   ]
  },
  {
   "cell_type": "markdown",
   "metadata": {},
   "source": [
    "# Data Preprocessing "
   ]
  },
  {
   "cell_type": "markdown",
   "metadata": {},
   "source": [
    "**1. Encoding**"
   ]
  },
  {
   "cell_type": "markdown",
   "metadata": {},
   "source": [
    "the target feature species is encoded for modelling"
   ]
  },
  {
   "cell_type": "code",
   "execution_count": null,
   "metadata": {},
   "outputs": [],
   "source": [
    "label_encoder = LabelEncoder()\n",
    "data[\"species\"] = label_encoder.fit_transform(data[\"species\"])"
   ]
  },
  {
   "cell_type": "markdown",
   "metadata": {},
   "source": [
    "**2. Splitting the Data Into Train and Test**"
   ]
  },
  {
   "cell_type": "markdown",
   "metadata": {},
   "source": [
    "The dataset is splitted into 2 parts and done with stratified method, the 80% of the dataset will be used to train models while the other 20% will be used to evaluate model's performance on new data. Splitting the dataset is important to prevent overfitting."
   ]
  },
  {
   "cell_type": "code",
   "execution_count": 9,
   "metadata": {},
   "outputs": [],
   "source": [
    "data_train, data_test = train_test_split(data, test_size=0.2,random_state=42,stratify=data[\"species\"])\n",
    "\n",
    "X_train=data_train.drop([\"species\"],axis=1)\n",
    "y_train=data_train[\"species\"]\n",
    "\n",
    "X_test=data_test.drop([\"species\"],axis=1)\n",
    "y_test=data_test[\"species\"]"
   ]
  },
  {
   "cell_type": "markdown",
   "metadata": {},
   "source": [
    "# Modelling"
   ]
  },
  {
   "cell_type": "code",
   "execution_count": 10,
   "metadata": {},
   "outputs": [
    {
     "name": "stdout",
     "output_type": "stream",
     "text": [
      "WARNING:tensorflow:From c:\\Users\\ASUS\\anaconda3\\Lib\\site-packages\\keras\\src\\backend.py:873: The name tf.get_default_graph is deprecated. Please use tf.compat.v1.get_default_graph instead.\n",
      "\n",
      "WARNING:tensorflow:From c:\\Users\\ASUS\\anaconda3\\Lib\\site-packages\\keras\\src\\optimizers\\__init__.py:309: The name tf.train.Optimizer is deprecated. Please use tf.compat.v1.train.Optimizer instead.\n",
      "\n"
     ]
    }
   ],
   "source": [
    "# Define the model architecture\n",
    "model = models.Sequential([\n",
    "    layers.Dense(64, activation='relu', input_shape=(4,)),\n",
    "    layers.Dense(64, activation='relu'),\n",
    "    layers.Dense(3, activation='softmax')\n",
    "])\n",
    "\n",
    "# Compile the model\n",
    "model.compile(optimizer='adam',\n",
    "                loss='sparse_categorical_crossentropy',\n",
    "                metrics=['accuracy'])"
   ]
  },
  {
   "cell_type": "code",
   "execution_count": 11,
   "metadata": {},
   "outputs": [
    {
     "name": "stdout",
     "output_type": "stream",
     "text": [
      "Epoch 1/50\n",
      "WARNING:tensorflow:From c:\\Users\\ASUS\\anaconda3\\Lib\\site-packages\\keras\\src\\utils\\tf_utils.py:492: The name tf.ragged.RaggedTensorValue is deprecated. Please use tf.compat.v1.ragged.RaggedTensorValue instead.\n",
      "\n",
      "WARNING:tensorflow:From c:\\Users\\ASUS\\anaconda3\\Lib\\site-packages\\keras\\src\\engine\\base_layer_utils.py:384: The name tf.executing_eagerly_outside_functions is deprecated. Please use tf.compat.v1.executing_eagerly_outside_functions instead.\n",
      "\n",
      "3/3 [==============================] - 1s 128ms/step - loss: 1.7795 - accuracy: 0.3263 - val_loss: 1.3638 - val_accuracy: 0.3750\n",
      "Epoch 2/50\n",
      "3/3 [==============================] - 0s 20ms/step - loss: 1.3021 - accuracy: 0.3263 - val_loss: 1.0877 - val_accuracy: 0.3750\n",
      "Epoch 3/50\n",
      "3/3 [==============================] - 0s 21ms/step - loss: 1.0550 - accuracy: 0.4526 - val_loss: 0.9771 - val_accuracy: 0.6250\n",
      "Epoch 4/50\n",
      "3/3 [==============================] - 0s 22ms/step - loss: 0.9776 - accuracy: 0.5368 - val_loss: 0.9451 - val_accuracy: 0.4167\n",
      "Epoch 5/50\n",
      "3/3 [==============================] - 0s 22ms/step - loss: 0.9373 - accuracy: 0.4105 - val_loss: 0.9155 - val_accuracy: 0.3750\n",
      "Epoch 6/50\n",
      "3/3 [==============================] - 0s 24ms/step - loss: 0.9029 - accuracy: 0.4632 - val_loss: 0.8741 - val_accuracy: 0.5417\n",
      "Epoch 7/50\n",
      "3/3 [==============================] - 0s 21ms/step - loss: 0.8588 - accuracy: 0.5579 - val_loss: 0.8243 - val_accuracy: 0.7083\n",
      "Epoch 8/50\n",
      "3/3 [==============================] - 0s 21ms/step - loss: 0.8181 - accuracy: 0.6737 - val_loss: 0.7744 - val_accuracy: 0.6250\n",
      "Epoch 9/50\n",
      "3/3 [==============================] - 0s 23ms/step - loss: 0.7769 - accuracy: 0.6737 - val_loss: 0.7355 - val_accuracy: 0.6250\n",
      "Epoch 10/50\n",
      "3/3 [==============================] - 0s 20ms/step - loss: 0.7341 - accuracy: 0.6737 - val_loss: 0.6929 - val_accuracy: 0.6250\n",
      "Epoch 11/50\n",
      "3/3 [==============================] - 0s 21ms/step - loss: 0.7045 - accuracy: 0.6737 - val_loss: 0.6590 - val_accuracy: 0.7500\n",
      "Epoch 12/50\n",
      "3/3 [==============================] - 0s 20ms/step - loss: 0.6773 - accuracy: 0.7053 - val_loss: 0.6258 - val_accuracy: 0.9167\n",
      "Epoch 13/50\n",
      "3/3 [==============================] - 0s 21ms/step - loss: 0.6502 - accuracy: 0.7579 - val_loss: 0.5965 - val_accuracy: 0.8750\n",
      "Epoch 14/50\n",
      "3/3 [==============================] - 0s 21ms/step - loss: 0.6202 - accuracy: 0.7579 - val_loss: 0.5656 - val_accuracy: 0.8750\n",
      "Epoch 15/50\n",
      "3/3 [==============================] - 0s 20ms/step - loss: 0.5904 - accuracy: 0.7789 - val_loss: 0.5358 - val_accuracy: 0.9167\n",
      "Epoch 16/50\n",
      "3/3 [==============================] - 0s 21ms/step - loss: 0.5654 - accuracy: 0.7158 - val_loss: 0.5194 - val_accuracy: 0.7083\n",
      "Epoch 17/50\n",
      "3/3 [==============================] - 0s 22ms/step - loss: 0.5487 - accuracy: 0.6842 - val_loss: 0.5019 - val_accuracy: 0.7083\n",
      "Epoch 18/50\n",
      "3/3 [==============================] - 0s 21ms/step - loss: 0.5263 - accuracy: 0.7263 - val_loss: 0.4740 - val_accuracy: 0.9167\n",
      "Epoch 19/50\n",
      "3/3 [==============================] - 0s 20ms/step - loss: 0.5076 - accuracy: 0.8526 - val_loss: 0.4516 - val_accuracy: 1.0000\n",
      "Epoch 20/50\n",
      "3/3 [==============================] - 0s 20ms/step - loss: 0.4948 - accuracy: 0.9053 - val_loss: 0.4327 - val_accuracy: 1.0000\n",
      "Epoch 21/50\n",
      "3/3 [==============================] - 0s 26ms/step - loss: 0.4820 - accuracy: 0.9368 - val_loss: 0.4207 - val_accuracy: 1.0000\n",
      "Epoch 22/50\n",
      "3/3 [==============================] - 0s 29ms/step - loss: 0.4673 - accuracy: 0.9158 - val_loss: 0.4082 - val_accuracy: 1.0000\n",
      "Epoch 23/50\n",
      "3/3 [==============================] - 0s 24ms/step - loss: 0.4556 - accuracy: 0.8421 - val_loss: 0.4013 - val_accuracy: 1.0000\n",
      "Epoch 24/50\n",
      "3/3 [==============================] - 0s 25ms/step - loss: 0.4480 - accuracy: 0.7895 - val_loss: 0.3896 - val_accuracy: 1.0000\n",
      "Epoch 25/50\n",
      "3/3 [==============================] - 0s 31ms/step - loss: 0.4331 - accuracy: 0.8526 - val_loss: 0.3693 - val_accuracy: 1.0000\n",
      "Epoch 26/50\n",
      "3/3 [==============================] - 0s 33ms/step - loss: 0.4251 - accuracy: 0.9368 - val_loss: 0.3528 - val_accuracy: 1.0000\n",
      "Epoch 27/50\n",
      "3/3 [==============================] - 0s 35ms/step - loss: 0.4166 - accuracy: 0.9474 - val_loss: 0.3460 - val_accuracy: 1.0000\n",
      "Epoch 28/50\n",
      "3/3 [==============================] - 0s 25ms/step - loss: 0.4054 - accuracy: 0.9053 - val_loss: 0.3380 - val_accuracy: 1.0000\n",
      "Epoch 29/50\n",
      "3/3 [==============================] - 0s 23ms/step - loss: 0.3954 - accuracy: 0.9053 - val_loss: 0.3234 - val_accuracy: 1.0000\n",
      "Epoch 30/50\n",
      "3/3 [==============================] - 0s 21ms/step - loss: 0.3859 - accuracy: 0.9474 - val_loss: 0.3128 - val_accuracy: 1.0000\n",
      "Epoch 31/50\n",
      "3/3 [==============================] - 0s 21ms/step - loss: 0.3789 - accuracy: 0.9474 - val_loss: 0.3047 - val_accuracy: 1.0000\n",
      "Epoch 32/50\n",
      "3/3 [==============================] - 0s 23ms/step - loss: 0.3691 - accuracy: 0.9368 - val_loss: 0.2939 - val_accuracy: 1.0000\n",
      "Epoch 33/50\n",
      "3/3 [==============================] - 0s 24ms/step - loss: 0.3622 - accuracy: 0.9474 - val_loss: 0.2826 - val_accuracy: 1.0000\n",
      "Epoch 34/50\n",
      "3/3 [==============================] - 0s 28ms/step - loss: 0.3553 - accuracy: 0.9474 - val_loss: 0.2739 - val_accuracy: 1.0000\n",
      "Epoch 35/50\n",
      "3/3 [==============================] - 0s 32ms/step - loss: 0.3470 - accuracy: 0.9579 - val_loss: 0.2615 - val_accuracy: 1.0000\n",
      "Epoch 36/50\n",
      "3/3 [==============================] - 0s 23ms/step - loss: 0.3396 - accuracy: 0.9579 - val_loss: 0.2531 - val_accuracy: 1.0000\n",
      "Epoch 37/50\n",
      "3/3 [==============================] - 0s 24ms/step - loss: 0.3311 - accuracy: 0.9684 - val_loss: 0.2459 - val_accuracy: 1.0000\n",
      "Epoch 38/50\n",
      "3/3 [==============================] - 0s 25ms/step - loss: 0.3241 - accuracy: 0.9579 - val_loss: 0.2398 - val_accuracy: 1.0000\n",
      "Epoch 39/50\n",
      "3/3 [==============================] - 0s 26ms/step - loss: 0.3189 - accuracy: 0.9474 - val_loss: 0.2288 - val_accuracy: 1.0000\n",
      "Epoch 40/50\n",
      "3/3 [==============================] - 0s 23ms/step - loss: 0.3110 - accuracy: 0.9579 - val_loss: 0.2210 - val_accuracy: 1.0000\n",
      "Epoch 41/50\n",
      "3/3 [==============================] - 0s 23ms/step - loss: 0.3027 - accuracy: 0.9684 - val_loss: 0.2125 - val_accuracy: 1.0000\n",
      "Epoch 42/50\n",
      "3/3 [==============================] - 0s 23ms/step - loss: 0.2971 - accuracy: 0.9684 - val_loss: 0.2083 - val_accuracy: 1.0000\n",
      "Epoch 43/50\n",
      "3/3 [==============================] - 0s 22ms/step - loss: 0.2885 - accuracy: 0.9579 - val_loss: 0.1980 - val_accuracy: 1.0000\n",
      "Epoch 44/50\n",
      "3/3 [==============================] - 0s 27ms/step - loss: 0.2815 - accuracy: 0.9684 - val_loss: 0.1880 - val_accuracy: 1.0000\n",
      "Epoch 45/50\n",
      "3/3 [==============================] - 0s 23ms/step - loss: 0.2753 - accuracy: 0.9684 - val_loss: 0.1810 - val_accuracy: 1.0000\n",
      "Epoch 46/50\n",
      "3/3 [==============================] - 0s 25ms/step - loss: 0.2687 - accuracy: 0.9684 - val_loss: 0.1743 - val_accuracy: 1.0000\n",
      "Epoch 47/50\n",
      "3/3 [==============================] - 0s 31ms/step - loss: 0.2658 - accuracy: 0.9684 - val_loss: 0.1657 - val_accuracy: 1.0000\n",
      "Epoch 48/50\n",
      "3/3 [==============================] - 0s 28ms/step - loss: 0.2569 - accuracy: 0.9684 - val_loss: 0.1628 - val_accuracy: 1.0000\n",
      "Epoch 49/50\n",
      "3/3 [==============================] - 0s 31ms/step - loss: 0.2533 - accuracy: 0.9579 - val_loss: 0.1567 - val_accuracy: 1.0000\n",
      "Epoch 50/50\n",
      "3/3 [==============================] - 0s 23ms/step - loss: 0.2428 - accuracy: 0.9684 - val_loss: 0.1460 - val_accuracy: 1.0000\n"
     ]
    }
   ],
   "source": [
    "# Train the model\n",
    "history = model.fit(X_train, y_train, epochs=50, validation_split=0.2)"
   ]
  },
  {
   "cell_type": "code",
   "execution_count": 12,
   "metadata": {},
   "outputs": [
    {
     "name": "stdout",
     "output_type": "stream",
     "text": [
      "1/1 [==============================] - 0s 33ms/step - loss: 0.2643 - accuracy: 0.9667\n",
      "Test Accuracy: 0.9666666388511658\n"
     ]
    }
   ],
   "source": [
    "loss, accuracy = model.evaluate(X_test, y_test)\n",
    "print(f'Test Accuracy: {accuracy}')"
   ]
  },
  {
   "cell_type": "code",
   "execution_count": 13,
   "metadata": {},
   "outputs": [
    {
     "data": {
      "image/png": "[encoded data removed]",
      "text/plain": [
       "<Figure size 640x480 with 1 Axes>"
      ]
     },
     "metadata": {},
     "output_type": "display_data"
    }
   ],
   "source": [
    "# Plot training and validation accuracy\n",
    "plt.plot(history.history['accuracy'])\n",
    "plt.plot(history.history['val_accuracy'])\n",
    "plt.title('Model Accuracy')\n",
    "plt.xlabel('Epoch')\n",
    "plt.ylabel('Accuracy')\n",
    "plt.legend(['Train', 'Validation'], loc='upper left')\n",
    "plt.show()"
   ]
  }
 ],
 "metadata": {
  "kernelspec": {
   "display_name": "base",
   "language": "python",
   "name": "python3"
  },
  "language_info": {
   "codemirror_mode": {
    "name": "ipython",
    "version": 3
   },
   "file_extension": ".py",
   "mimetype": "text/x-python",
   "name": "python",
   "nbconvert_exporter": "python",
   "pygments_lexer": "ipython3",
   "version": "3.11.5"
  }
 },
 "nbformat": 4,
 "nbformat_minor": 4
}
